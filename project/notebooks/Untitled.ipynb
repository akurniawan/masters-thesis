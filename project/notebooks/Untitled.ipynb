{
 "cells": [
  {
   "cell_type": "code",
   "execution_count": 32,
   "id": "bf7747bf-7f3e-4db3-81b6-63693b0e57f3",
   "metadata": {},
   "outputs": [],
   "source": [
    "from datasets import concatenate_datasets, load_dataset, load_from_disk, DatasetDict\n",
    "from transformers import (AutoConfig, AutoTokenizer, DataCollatorForSeq2Seq,\n",
    "                          EncoderDecoderConfig, EncoderDecoderModel,\n",
    "                          HfArgumentParser, PfeifferConfig, Seq2SeqTrainer,\n",
    "                          Seq2SeqTrainingArguments, default_data_collator,\n",
    "                          set_seed)\n",
    "import random\n",
    "import torch"
   ]
  },
  {
   "cell_type": "code",
   "execution_count": 35,
   "id": "2e1b4ddf-a080-4fe4-bd92-8952066f0aeb",
   "metadata": {},
   "outputs": [
    {
     "data": {
      "text/plain": [
       "<All keys matched successfully>"
      ]
     },
     "execution_count": 35,
     "metadata": {},
     "output_type": "execute_result"
    }
   ],
   "source": [
    "# model = EncoderDecoderModel.from_encoder_decoder_pretrained(\n",
    "#     \"bert-base-german-dbmdz-uncased\", \"bert-base-uncased\"\n",
    "# )\n",
    "model.load_state_dict(torch.load(\"/Volumes/Workspace/masters/thesis/project/outputs/models/pytorch_model.bin\", map_location=torch.device('cpu')))"
   ]
  },
  {
   "cell_type": "code",
   "execution_count": 37,
   "id": "b806496d-e39e-496a-b8e8-ece875d80a8c",
   "metadata": {},
   "outputs": [],
   "source": [
    "enc_tokenizer = AutoTokenizer.from_pretrained(\n",
    "    \"bert-base-german-dbmdz-uncased\")\n",
    "dec_tokenizer = AutoTokenizer.from_pretrained(\n",
    "    \"bert-base-uncased\")\n",
    "\n",
    "model.config.decoder_start_token_id = dec_tokenizer.cls_token_id"
   ]
  },
  {
   "cell_type": "code",
   "execution_count": 40,
   "id": "096390a8-dcc1-440f-9002-e5704a88b349",
   "metadata": {},
   "outputs": [],
   "source": [
    "# model.forward()\n",
    "# text = \"moneyball erscheint bald und dreht sich um statistiken und um diese zu nutzen ein großartiges baseball team aufzustellen.\"\n",
    "text = \"& quot ; moneyball & quot ; erscheint bald und dreht sich um statistiken und um diese zu nutzen ein großartiges baseball team aufzustellen.\"\n",
    "input_ids = enc_tokenizer(text, return_tensors=\"pt\").input_ids\n",
    "out = model.generate(input_ids)"
   ]
  },
  {
   "cell_type": "code",
   "execution_count": 41,
   "id": "288e66ed-7eb3-4c60-bd3d-8395d9c6a1d9",
   "metadata": {},
   "outputs": [
    {
     "data": {
      "text/plain": [
       "'[CLS] & quot ; devilball & quot ; appears soon, and it & apos ;'"
      ]
     },
     "execution_count": 41,
     "metadata": {},
     "output_type": "execute_result"
    }
   ],
   "source": [
    "dec_tokenizer.decode(out[0])\n",
    "# Moneyball is coming soon and it's all about statistics and using them to create a great baseball team."
   ]
  },
  {
   "cell_type": "code",
   "execution_count": 43,
   "id": "ffdceaf0-71ac-4c8c-87c9-649f05c274f6",
   "metadata": {},
   "outputs": [
    {
     "data": {
      "text/plain": [
       "{'input_ids': [102, 700, 303, 103], 'token_type_ids': [0, 0, 0, 0], 'attention_mask': [1, 1, 1, 1]}"
      ]
     },
     "execution_count": 43,
     "metadata": {},
     "output_type": "execute_result"
    }
   ],
   "source": [
    "enc_tokenizer(\"quot\")"
   ]
  }
 ],
 "metadata": {
  "kernelspec": {
   "display_name": "Python 3 (ipykernel)",
   "language": "python",
   "name": "python3"
  },
  "language_info": {
   "codemirror_mode": {
    "name": "ipython",
    "version": 3
   },
   "file_extension": ".py",
   "mimetype": "text/x-python",
   "name": "python",
   "nbconvert_exporter": "python",
   "pygments_lexer": "ipython3",
   "version": "3.8.12"
  }
 },
 "nbformat": 4,
 "nbformat_minor": 5
}
