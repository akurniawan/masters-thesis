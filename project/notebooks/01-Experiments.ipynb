{
 "cells": [
  {
   "cell_type": "code",
   "execution_count": 1,
   "metadata": {},
   "outputs": [],
   "source": [
    "import sys\n",
    "\n",
    "sys.path.append(\"../\")\n",
    "\n",
    "from datasets import load_dataset\n",
    "from transformers import AutoTokenizer\n",
    "from src.data import *\n",
    "from accelerate import accelerator"
   ]
  },
  {
   "cell_type": "code",
   "execution_count": 7,
   "metadata": {},
   "outputs": [
    {
     "name": "stderr",
     "output_type": "stream",
     "text": [
      "Reusing dataset wmt16 (/Users/akurniawan/.cache/huggingface/datasets/wmt16/ro-en/1.0.0/0d9fb3e814712c785176ad8cdb9f465fbe6479000ee6546725db30ad8a8b5f8a)\n",
      "100%|██████████| 3/3 [00:00<00:00, 153.03it/s]\n"
     ]
    }
   ],
   "source": [
    "dataset = RawMTDataset.wmt16_ro_en()\n",
    "tokenizer = AutoTokenizer.from_pretrained(\"bert-base-multilingual-cased\")\n",
    "tokenized_dataset = TokenizedMTDataset(dataset, tokenizer)"
   ]
  },
  {
   "cell_type": "code",
   "execution_count": 8,
   "metadata": {},
   "outputs": [
    {
     "name": "stderr",
     "output_type": "stream",
     "text": [
      "Loading cached processed dataset at /Users/akurniawan/.cache/huggingface/datasets/wmt16/ro-en/1.0.0/0d9fb3e814712c785176ad8cdb9f465fbe6479000ee6546725db30ad8a8b5f8a/cache-31a41103e19cab6f.arrow\n",
      "Loading cached processed dataset at /Users/akurniawan/.cache/huggingface/datasets/wmt16/ro-en/1.0.0/0d9fb3e814712c785176ad8cdb9f465fbe6479000ee6546725db30ad8a8b5f8a/cache-65d66b5e8ff99eaa.arrow\n",
      "Loading cached processed dataset at /Users/akurniawan/.cache/huggingface/datasets/wmt16/ro-en/1.0.0/0d9fb3e814712c785176ad8cdb9f465fbe6479000ee6546725db30ad8a8b5f8a/cache-313bfa5a8bb711d4.arrow\n",
      "Loading cached processed dataset at /Users/akurniawan/.cache/huggingface/datasets/wmt16/ro-en/1.0.0/0d9fb3e814712c785176ad8cdb9f465fbe6479000ee6546725db30ad8a8b5f8a/cache-4e8c0a3acd489813.arrow\n",
      "Loading cached processed dataset at /Users/akurniawan/.cache/huggingface/datasets/wmt16/ro-en/1.0.0/0d9fb3e814712c785176ad8cdb9f465fbe6479000ee6546725db30ad8a8b5f8a/cache-faeee1de00e0c678.arrow\n",
      "Loading cached processed dataset at /Users/akurniawan/.cache/huggingface/datasets/wmt16/ro-en/1.0.0/0d9fb3e814712c785176ad8cdb9f465fbe6479000ee6546725db30ad8a8b5f8a/cache-972d4a749af5ac38.arrow\n",
      "Loading cached processed dataset at /Users/akurniawan/.cache/huggingface/datasets/wmt16/ro-en/1.0.0/0d9fb3e814712c785176ad8cdb9f465fbe6479000ee6546725db30ad8a8b5f8a/cache-afae8a8d6ed7ae8b.arrow\n",
      "Loading cached processed dataset at /Users/akurniawan/.cache/huggingface/datasets/wmt16/ro-en/1.0.0/0d9fb3e814712c785176ad8cdb9f465fbe6479000ee6546725db30ad8a8b5f8a/cache-3e5bc7a5fe104eb7.arrow\n",
      "Loading cached processed dataset at /Users/akurniawan/.cache/huggingface/datasets/wmt16/ro-en/1.0.0/0d9fb3e814712c785176ad8cdb9f465fbe6479000ee6546725db30ad8a8b5f8a/cache-385e387cd4d3f22b.arrow\n",
      "Loading cached processed dataset at /Users/akurniawan/.cache/huggingface/datasets/wmt16/ro-en/1.0.0/0d9fb3e814712c785176ad8cdb9f465fbe6479000ee6546725db30ad8a8b5f8a/cache-768535dc258fd29a.arrow\n",
      "Loading cached processed dataset at /Users/akurniawan/.cache/huggingface/datasets/wmt16/ro-en/1.0.0/0d9fb3e814712c785176ad8cdb9f465fbe6479000ee6546725db30ad8a8b5f8a/cache-3e1350f9aa17303f.arrow\n",
      "Loading cached processed dataset at /Users/akurniawan/.cache/huggingface/datasets/wmt16/ro-en/1.0.0/0d9fb3e814712c785176ad8cdb9f465fbe6479000ee6546725db30ad8a8b5f8a/cache-a7a1d6e0de3ef610.arrow\n",
      "Loading cached processed dataset at /Users/akurniawan/.cache/huggingface/datasets/wmt16/ro-en/1.0.0/0d9fb3e814712c785176ad8cdb9f465fbe6479000ee6546725db30ad8a8b5f8a/cache-2aa65d3b50bbed14.arrow\n",
      "Loading cached processed dataset at /Users/akurniawan/.cache/huggingface/datasets/wmt16/ro-en/1.0.0/0d9fb3e814712c785176ad8cdb9f465fbe6479000ee6546725db30ad8a8b5f8a/cache-732a59dcf04d0851.arrow\n",
      "Loading cached processed dataset at /Users/akurniawan/.cache/huggingface/datasets/wmt16/ro-en/1.0.0/0d9fb3e814712c785176ad8cdb9f465fbe6479000ee6546725db30ad8a8b5f8a/cache-a46a42d7527e4013.arrow\n",
      "Loading cached processed dataset at /Users/akurniawan/.cache/huggingface/datasets/wmt16/ro-en/1.0.0/0d9fb3e814712c785176ad8cdb9f465fbe6479000ee6546725db30ad8a8b5f8a/cache-e1743b76f5895fc4.arrow\n",
      "Loading cached processed dataset at /Users/akurniawan/.cache/huggingface/datasets/wmt16/ro-en/1.0.0/0d9fb3e814712c785176ad8cdb9f465fbe6479000ee6546725db30ad8a8b5f8a/cache-0bd7976a625a2211.arrow\n",
      "Loading cached processed dataset at /Users/akurniawan/.cache/huggingface/datasets/wmt16/ro-en/1.0.0/0d9fb3e814712c785176ad8cdb9f465fbe6479000ee6546725db30ad8a8b5f8a/cache-df5285a778b35baa.arrow\n",
      "Loading cached processed dataset at /Users/akurniawan/.cache/huggingface/datasets/wmt16/ro-en/1.0.0/0d9fb3e814712c785176ad8cdb9f465fbe6479000ee6546725db30ad8a8b5f8a/cache-8cf357d1553e3ec0.arrow\n",
      "Loading cached processed dataset at /Users/akurniawan/.cache/huggingface/datasets/wmt16/ro-en/1.0.0/0d9fb3e814712c785176ad8cdb9f465fbe6479000ee6546725db30ad8a8b5f8a/cache-37e8eaa975c5cfc7.arrow\n",
      "Loading cached processed dataset at /Users/akurniawan/.cache/huggingface/datasets/wmt16/ro-en/1.0.0/0d9fb3e814712c785176ad8cdb9f465fbe6479000ee6546725db30ad8a8b5f8a/cache-2ed3f9003f800dca.arrow\n",
      "Loading cached processed dataset at /Users/akurniawan/.cache/huggingface/datasets/wmt16/ro-en/1.0.0/0d9fb3e814712c785176ad8cdb9f465fbe6479000ee6546725db30ad8a8b5f8a/cache-0a3201468cee5f34.arrow\n",
      "Loading cached processed dataset at /Users/akurniawan/.cache/huggingface/datasets/wmt16/ro-en/1.0.0/0d9fb3e814712c785176ad8cdb9f465fbe6479000ee6546725db30ad8a8b5f8a/cache-1ea13778b70d6d1f.arrow\n",
      "Loading cached processed dataset at /Users/akurniawan/.cache/huggingface/datasets/wmt16/ro-en/1.0.0/0d9fb3e814712c785176ad8cdb9f465fbe6479000ee6546725db30ad8a8b5f8a/cache-1a3179a31a556480.arrow\n"
     ]
    }
   ],
   "source": [
    "preprocessed_dataset = tokenized_dataset.preprocess(8)"
   ]
  },
  {
   "cell_type": "code",
   "execution_count": 6,
   "metadata": {},
   "outputs": [
    {
     "data": {
      "text/plain": [
       "[101,\n",
       " 16680,\n",
       " 62640,\n",
       " 110969,\n",
       " 10113,\n",
       " 29889,\n",
       " 12200,\n",
       " 131,\n",
       " 169,\n",
       " 10126,\n",
       " 27947,\n",
       " 10113,\n",
       " 34254,\n",
       " 10161,\n",
       " 118,\n",
       " 70850,\n",
       " 102]"
      ]
     },
     "execution_count": 6,
     "metadata": {},
     "output_type": "execute_result"
    }
   ],
   "source": [
    "preprocessed_dataset[\"train\"][\"labels\"][0]"
   ]
  },
  {
   "cell_type": "code",
   "execution_count": null,
   "metadata": {},
   "outputs": [],
   "source": []
  }
 ],
 "metadata": {
  "interpreter": {
   "hash": "2d9a048adca364fc36fb99f1daf3deb602561ed8ca21e01973742acf969670f7"
  },
  "kernelspec": {
   "display_name": "Python 3.8.12 64-bit ('thesis': conda)",
   "name": "python3"
  },
  "language_info": {
   "codemirror_mode": {
    "name": "ipython",
    "version": 3
   },
   "file_extension": ".py",
   "mimetype": "text/x-python",
   "name": "python",
   "nbconvert_exporter": "python",
   "pygments_lexer": "ipython3",
   "version": "3.8.12"
  },
  "orig_nbformat": 4
 },
 "nbformat": 4,
 "nbformat_minor": 2
}
