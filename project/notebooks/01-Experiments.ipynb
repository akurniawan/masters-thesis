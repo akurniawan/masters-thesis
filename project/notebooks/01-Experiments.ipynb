{
 "cells": [
  {
   "cell_type": "code",
   "execution_count": 1,
   "metadata": {},
   "outputs": [],
   "source": [
    "import sys\n",
    "\n",
    "sys.path.append(\"../\")\n",
    "\n",
    "from datasets import load_dataset\n",
    "from transformers import AutoTokenizer\n",
    "from src.data import *\n",
    "from accelerate import accelerator"
   ]
  },
  {
   "cell_type": "code",
   "execution_count": 2,
   "metadata": {},
   "outputs": [
    {
     "name": "stderr",
     "output_type": "stream",
     "text": [
      "Reusing dataset wmt16 (/Users/akurniawan/.cache/huggingface/datasets/wmt16/ro-en/1.0.0/0d9fb3e814712c785176ad8cdb9f465fbe6479000ee6546725db30ad8a8b5f8a)\n",
      "100%|██████████| 3/3 [00:00<00:00, 57.78it/s]\n"
     ]
    }
   ],
   "source": [
    "dataset = RawMTDataset.wmt16_ro_en()\n",
    "tokenizer = AutoTokenizer.from_pretrained(\"bert-base-multilingual-cased\")\n",
    "tokenized_dataset = TokenizedMTDataset(dataset, tokenizer)"
   ]
  },
  {
   "cell_type": "code",
   "execution_count": 7,
   "metadata": {},
   "outputs": [
    {
     "data": {
      "text/plain": [
       "101"
      ]
     },
     "execution_count": 7,
     "metadata": {},
     "output_type": "execute_result"
    }
   ],
   "source": [
    "# tokenizer(\"this is brazil\")\n",
    "tokenizer.vocab[\"[CLS]\"]"
   ]
  },
  {
   "cell_type": "code",
   "execution_count": 30,
   "metadata": {},
   "outputs": [
    {
     "name": "stderr",
     "output_type": "stream",
     "text": [
      "Loading cached processed dataset at /Users/akurniawan/.cache/huggingface/datasets/wmt16/ro-en/1.0.0/0d9fb3e814712c785176ad8cdb9f465fbe6479000ee6546725db30ad8a8b5f8a/cache-31a41103e19cab6f.arrow\n",
      "Loading cached processed dataset at /Users/akurniawan/.cache/huggingface/datasets/wmt16/ro-en/1.0.0/0d9fb3e814712c785176ad8cdb9f465fbe6479000ee6546725db30ad8a8b5f8a/cache-65d66b5e8ff99eaa.arrow\n",
      "Loading cached processed dataset at /Users/akurniawan/.cache/huggingface/datasets/wmt16/ro-en/1.0.0/0d9fb3e814712c785176ad8cdb9f465fbe6479000ee6546725db30ad8a8b5f8a/cache-313bfa5a8bb711d4.arrow\n",
      "Loading cached processed dataset at /Users/akurniawan/.cache/huggingface/datasets/wmt16/ro-en/1.0.0/0d9fb3e814712c785176ad8cdb9f465fbe6479000ee6546725db30ad8a8b5f8a/cache-4e8c0a3acd489813.arrow\n",
      "Loading cached processed dataset at /Users/akurniawan/.cache/huggingface/datasets/wmt16/ro-en/1.0.0/0d9fb3e814712c785176ad8cdb9f465fbe6479000ee6546725db30ad8a8b5f8a/cache-faeee1de00e0c678.arrow\n",
      "Loading cached processed dataset at /Users/akurniawan/.cache/huggingface/datasets/wmt16/ro-en/1.0.0/0d9fb3e814712c785176ad8cdb9f465fbe6479000ee6546725db30ad8a8b5f8a/cache-972d4a749af5ac38.arrow\n",
      "Loading cached processed dataset at /Users/akurniawan/.cache/huggingface/datasets/wmt16/ro-en/1.0.0/0d9fb3e814712c785176ad8cdb9f465fbe6479000ee6546725db30ad8a8b5f8a/cache-afae8a8d6ed7ae8b.arrow\n",
      "Loading cached processed dataset at /Users/akurniawan/.cache/huggingface/datasets/wmt16/ro-en/1.0.0/0d9fb3e814712c785176ad8cdb9f465fbe6479000ee6546725db30ad8a8b5f8a/cache-3e5bc7a5fe104eb7.arrow\n",
      "Loading cached processed dataset at /Users/akurniawan/.cache/huggingface/datasets/wmt16/ro-en/1.0.0/0d9fb3e814712c785176ad8cdb9f465fbe6479000ee6546725db30ad8a8b5f8a/cache-385e387cd4d3f22b.arrow\n",
      "Loading cached processed dataset at /Users/akurniawan/.cache/huggingface/datasets/wmt16/ro-en/1.0.0/0d9fb3e814712c785176ad8cdb9f465fbe6479000ee6546725db30ad8a8b5f8a/cache-768535dc258fd29a.arrow\n",
      "Loading cached processed dataset at /Users/akurniawan/.cache/huggingface/datasets/wmt16/ro-en/1.0.0/0d9fb3e814712c785176ad8cdb9f465fbe6479000ee6546725db30ad8a8b5f8a/cache-3e1350f9aa17303f.arrow\n",
      "Loading cached processed dataset at /Users/akurniawan/.cache/huggingface/datasets/wmt16/ro-en/1.0.0/0d9fb3e814712c785176ad8cdb9f465fbe6479000ee6546725db30ad8a8b5f8a/cache-a7a1d6e0de3ef610.arrow\n",
      "Loading cached processed dataset at /Users/akurniawan/.cache/huggingface/datasets/wmt16/ro-en/1.0.0/0d9fb3e814712c785176ad8cdb9f465fbe6479000ee6546725db30ad8a8b5f8a/cache-2aa65d3b50bbed14.arrow\n",
      "Loading cached processed dataset at /Users/akurniawan/.cache/huggingface/datasets/wmt16/ro-en/1.0.0/0d9fb3e814712c785176ad8cdb9f465fbe6479000ee6546725db30ad8a8b5f8a/cache-732a59dcf04d0851.arrow\n",
      "Loading cached processed dataset at /Users/akurniawan/.cache/huggingface/datasets/wmt16/ro-en/1.0.0/0d9fb3e814712c785176ad8cdb9f465fbe6479000ee6546725db30ad8a8b5f8a/cache-a46a42d7527e4013.arrow\n",
      "Loading cached processed dataset at /Users/akurniawan/.cache/huggingface/datasets/wmt16/ro-en/1.0.0/0d9fb3e814712c785176ad8cdb9f465fbe6479000ee6546725db30ad8a8b5f8a/cache-e1743b76f5895fc4.arrow\n",
      "Loading cached processed dataset at /Users/akurniawan/.cache/huggingface/datasets/wmt16/ro-en/1.0.0/0d9fb3e814712c785176ad8cdb9f465fbe6479000ee6546725db30ad8a8b5f8a/cache-0bd7976a625a2211.arrow\n",
      "Loading cached processed dataset at /Users/akurniawan/.cache/huggingface/datasets/wmt16/ro-en/1.0.0/0d9fb3e814712c785176ad8cdb9f465fbe6479000ee6546725db30ad8a8b5f8a/cache-df5285a778b35baa.arrow\n",
      "Loading cached processed dataset at /Users/akurniawan/.cache/huggingface/datasets/wmt16/ro-en/1.0.0/0d9fb3e814712c785176ad8cdb9f465fbe6479000ee6546725db30ad8a8b5f8a/cache-8cf357d1553e3ec0.arrow\n",
      "Loading cached processed dataset at /Users/akurniawan/.cache/huggingface/datasets/wmt16/ro-en/1.0.0/0d9fb3e814712c785176ad8cdb9f465fbe6479000ee6546725db30ad8a8b5f8a/cache-37e8eaa975c5cfc7.arrow\n",
      "Loading cached processed dataset at /Users/akurniawan/.cache/huggingface/datasets/wmt16/ro-en/1.0.0/0d9fb3e814712c785176ad8cdb9f465fbe6479000ee6546725db30ad8a8b5f8a/cache-2ed3f9003f800dca.arrow\n",
      "Loading cached processed dataset at /Users/akurniawan/.cache/huggingface/datasets/wmt16/ro-en/1.0.0/0d9fb3e814712c785176ad8cdb9f465fbe6479000ee6546725db30ad8a8b5f8a/cache-0a3201468cee5f34.arrow\n",
      "Loading cached processed dataset at /Users/akurniawan/.cache/huggingface/datasets/wmt16/ro-en/1.0.0/0d9fb3e814712c785176ad8cdb9f465fbe6479000ee6546725db30ad8a8b5f8a/cache-1ea13778b70d6d1f.arrow\n",
      "Loading cached processed dataset at /Users/akurniawan/.cache/huggingface/datasets/wmt16/ro-en/1.0.0/0d9fb3e814712c785176ad8cdb9f465fbe6479000ee6546725db30ad8a8b5f8a/cache-1a3179a31a556480.arrow\n"
     ]
    }
   ],
   "source": [
    "preprocessed_dataset = tokenized_dataset.preprocess(8)"
   ]
  },
  {
   "cell_type": "code",
   "execution_count": 31,
   "metadata": {},
   "outputs": [
    {
     "name": "stderr",
     "output_type": "stream",
     "text": [
      "Some weights of the model checkpoint at bert-base-multilingual-cased were not used when initializing BertModel: ['cls.seq_relationship.weight', 'cls.predictions.transform.LayerNorm.bias', 'cls.predictions.decoder.weight', 'cls.predictions.transform.LayerNorm.weight', 'cls.predictions.transform.dense.weight', 'cls.predictions.bias', 'cls.predictions.transform.dense.bias', 'cls.seq_relationship.bias']\n",
      "- This IS expected if you are initializing BertModel from the checkpoint of a model trained on another task or with another architecture (e.g. initializing a BertForSequenceClassification model from a BertForPreTraining model).\n",
      "- This IS NOT expected if you are initializing BertModel from the checkpoint of a model that you expect to be exactly identical (initializing a BertForSequenceClassification model from a BertForSequenceClassification model).\n"
     ]
    }
   ],
   "source": [
    "from transformers import BertModel\n",
    "\n",
    "model = BertModel.from_pretrained(\"bert-base-multilingual-cased\")\n",
    "model.add_adapter(\"testing\")"
   ]
  },
  {
   "cell_type": "code",
   "execution_count": 32,
   "metadata": {},
   "outputs": [
    {
     "name": "stderr",
     "output_type": "stream",
     "text": [
      "Some weights of the model checkpoint at bert-base-multilingual-cased were not used when initializing BertLMHeadModel: ['cls.seq_relationship.weight', 'cls.seq_relationship.bias']\n",
      "- This IS expected if you are initializing BertLMHeadModel from the checkpoint of a model trained on another task or with another architecture (e.g. initializing a BertForSequenceClassification model from a BertForPreTraining model).\n",
      "- This IS NOT expected if you are initializing BertLMHeadModel from the checkpoint of a model that you expect to be exactly identical (initializing a BertForSequenceClassification model from a BertForSequenceClassification model).\n",
      "Some weights of BertLMHeadModel were not initialized from the model checkpoint at bert-base-multilingual-cased and are newly initialized: ['bert.encoder.layer.4.crossattention.self.query.weight', 'bert.encoder.layer.6.crossattention.self.query.weight', 'bert.encoder.layer.10.crossattention.self.key.weight', 'bert.encoder.layer.7.crossattention.self.query.weight', 'bert.encoder.layer.9.crossattention.self.value.weight', 'bert.encoder.layer.5.crossattention.self.query.bias', 'bert.encoder.layer.9.crossattention.self.key.bias', 'bert.encoder.layer.9.crossattention.output.dense.weight', 'bert.encoder.layer.10.crossattention.self.key.bias', 'bert.encoder.layer.2.crossattention.output.LayerNorm.weight', 'bert.encoder.layer.10.crossattention.output.LayerNorm.weight', 'bert.encoder.layer.6.crossattention.output.dense.bias', 'bert.encoder.layer.2.crossattention.self.query.bias', 'bert.encoder.layer.5.crossattention.output.dense.bias', 'bert.encoder.layer.6.crossattention.self.value.bias', 'bert.encoder.layer.0.crossattention.self.value.weight', 'bert.encoder.layer.0.crossattention.self.key.weight', 'bert.encoder.layer.10.crossattention.output.dense.bias', 'bert.encoder.layer.2.crossattention.self.value.weight', 'bert.encoder.layer.3.crossattention.output.dense.bias', 'bert.encoder.layer.3.crossattention.self.value.bias', 'bert.encoder.layer.5.crossattention.self.value.bias', 'bert.encoder.layer.0.crossattention.output.LayerNorm.weight', 'bert.encoder.layer.3.crossattention.self.query.bias', 'bert.encoder.layer.0.crossattention.output.LayerNorm.bias', 'bert.encoder.layer.8.crossattention.output.dense.weight', 'bert.encoder.layer.10.crossattention.self.query.weight', 'bert.encoder.layer.4.crossattention.output.LayerNorm.bias', 'bert.encoder.layer.4.crossattention.output.LayerNorm.weight', 'bert.encoder.layer.8.crossattention.self.key.bias', 'bert.encoder.layer.1.crossattention.self.query.bias', 'bert.encoder.layer.9.crossattention.output.LayerNorm.weight', 'bert.encoder.layer.9.crossattention.self.key.weight', 'bert.encoder.layer.1.crossattention.output.dense.weight', 'bert.encoder.layer.1.crossattention.output.LayerNorm.weight', 'bert.encoder.layer.1.crossattention.self.value.weight', 'bert.encoder.layer.8.crossattention.self.value.weight', 'bert.encoder.layer.8.crossattention.output.LayerNorm.weight', 'bert.encoder.layer.2.crossattention.self.key.weight', 'bert.encoder.layer.10.crossattention.self.value.bias', 'bert.encoder.layer.7.crossattention.output.dense.weight', 'bert.encoder.layer.7.crossattention.output.dense.bias', 'bert.encoder.layer.11.crossattention.self.value.weight', 'bert.encoder.layer.11.crossattention.output.LayerNorm.bias', 'bert.encoder.layer.11.crossattention.output.dense.weight', 'bert.encoder.layer.1.crossattention.self.key.bias', 'bert.encoder.layer.3.crossattention.output.dense.weight', 'bert.encoder.layer.10.crossattention.self.value.weight', 'bert.encoder.layer.6.crossattention.self.key.weight', 'bert.encoder.layer.11.crossattention.self.value.bias', 'bert.encoder.layer.5.crossattention.self.key.weight', 'bert.encoder.layer.3.crossattention.self.key.weight', 'bert.encoder.layer.10.crossattention.output.LayerNorm.bias', 'bert.encoder.layer.4.crossattention.self.key.weight', 'bert.encoder.layer.2.crossattention.self.key.bias', 'bert.encoder.layer.2.crossattention.self.query.weight', 'bert.encoder.layer.5.crossattention.output.LayerNorm.bias', 'bert.encoder.layer.9.crossattention.self.query.bias', 'bert.encoder.layer.5.crossattention.self.key.bias', 'bert.encoder.layer.0.crossattention.output.dense.bias', 'bert.encoder.layer.6.crossattention.output.dense.weight', 'bert.encoder.layer.4.crossattention.output.dense.bias', 'bert.encoder.layer.7.crossattention.self.key.bias', 'bert.encoder.layer.9.crossattention.output.dense.bias', 'bert.encoder.layer.11.crossattention.self.query.weight', 'bert.encoder.layer.11.crossattention.output.LayerNorm.weight', 'bert.encoder.layer.11.crossattention.self.key.weight', 'bert.encoder.layer.4.crossattention.self.query.bias', 'bert.encoder.layer.8.crossattention.self.key.weight', 'bert.encoder.layer.2.crossattention.output.dense.bias', 'bert.encoder.layer.3.crossattention.self.key.bias', 'bert.encoder.layer.7.crossattention.output.LayerNorm.bias', 'bert.encoder.layer.7.crossattention.self.value.bias', 'bert.encoder.layer.1.crossattention.self.key.weight', 'bert.encoder.layer.10.crossattention.output.dense.weight', 'bert.encoder.layer.4.crossattention.self.value.bias', 'bert.encoder.layer.11.crossattention.self.query.bias', 'bert.encoder.layer.0.crossattention.self.key.bias', 'bert.encoder.layer.10.crossattention.self.query.bias', 'bert.encoder.layer.5.crossattention.output.LayerNorm.weight', 'bert.encoder.layer.8.crossattention.output.LayerNorm.bias', 'bert.encoder.layer.0.crossattention.self.value.bias', 'bert.encoder.layer.4.crossattention.self.key.bias', 'bert.encoder.layer.5.crossattention.self.value.weight', 'bert.encoder.layer.4.crossattention.self.value.weight', 'bert.encoder.layer.2.crossattention.output.LayerNorm.bias', 'bert.encoder.layer.7.crossattention.self.value.weight', 'bert.encoder.layer.9.crossattention.self.query.weight', 'bert.encoder.layer.2.crossattention.self.value.bias', 'bert.encoder.layer.5.crossattention.self.query.weight', 'bert.encoder.layer.8.crossattention.self.value.bias', 'bert.encoder.layer.3.crossattention.output.LayerNorm.bias', 'bert.encoder.layer.1.crossattention.self.value.bias', 'bert.encoder.layer.3.crossattention.output.LayerNorm.weight', 'bert.encoder.layer.9.crossattention.self.value.bias', 'bert.encoder.layer.1.crossattention.output.dense.bias', 'bert.encoder.layer.6.crossattention.self.query.bias', 'bert.encoder.layer.1.crossattention.self.query.weight', 'bert.encoder.layer.5.crossattention.output.dense.weight', 'bert.encoder.layer.6.crossattention.self.key.bias', 'bert.encoder.layer.6.crossattention.self.value.weight', 'bert.encoder.layer.7.crossattention.self.key.weight', 'bert.encoder.layer.7.crossattention.self.query.bias', 'bert.encoder.layer.1.crossattention.output.LayerNorm.bias', 'bert.encoder.layer.0.crossattention.self.query.weight', 'bert.encoder.layer.7.crossattention.output.LayerNorm.weight', 'bert.encoder.layer.0.crossattention.self.query.bias', 'bert.encoder.layer.8.crossattention.self.query.bias', 'bert.encoder.layer.6.crossattention.output.LayerNorm.bias', 'bert.encoder.layer.9.crossattention.output.LayerNorm.bias', 'bert.encoder.layer.4.crossattention.output.dense.weight', 'bert.encoder.layer.2.crossattention.output.dense.weight', 'bert.encoder.layer.3.crossattention.self.query.weight', 'bert.encoder.layer.8.crossattention.self.query.weight', 'bert.encoder.layer.11.crossattention.output.dense.bias', 'bert.encoder.layer.0.crossattention.output.dense.weight', 'bert.encoder.layer.3.crossattention.self.value.weight', 'bert.encoder.layer.8.crossattention.output.dense.bias', 'bert.encoder.layer.11.crossattention.self.key.bias', 'bert.encoder.layer.6.crossattention.output.LayerNorm.weight']\n",
      "You should probably TRAIN this model on a down-stream task to be able to use it for predictions and inference.\n"
     ]
    }
   ],
   "source": [
    "from transformers import BertLMHeadModel, BertConfig\n",
    "\n",
    "config = BertConfig(vocab_size=119547, is_decoder=True, add_cross_attention=True)\n",
    "model_lm = BertLMHeadModel.from_pretrained(\"bert-base-multilingual-cased\", config=config)\n",
    "model_lm.add_adapter(\"testing\")"
   ]
  },
  {
   "cell_type": "code",
   "execution_count": 27,
   "metadata": {},
   "outputs": [
    {
     "name": "stderr",
     "output_type": "stream",
     "text": [
      "Some weights of the model checkpoint at bert-base-multilingual-cased were not used when initializing BertModel: ['cls.predictions.decoder.weight', 'cls.predictions.transform.LayerNorm.weight', 'cls.predictions.bias', 'cls.predictions.transform.dense.bias', 'cls.predictions.transform.LayerNorm.bias', 'cls.seq_relationship.weight', 'cls.predictions.transform.dense.weight', 'cls.seq_relationship.bias']\n",
      "- This IS expected if you are initializing BertModel from the checkpoint of a model trained on another task or with another architecture (e.g. initializing a BertForSequenceClassification model from a BertForPreTraining model).\n",
      "- This IS NOT expected if you are initializing BertModel from the checkpoint of a model that you expect to be exactly identical (initializing a BertForSequenceClassification model from a BertForSequenceClassification model).\n",
      "Some weights of the model checkpoint at bert-base-multilingual-cased were not used when initializing BertLMHeadModel: ['cls.seq_relationship.weight', 'cls.seq_relationship.bias']\n",
      "- This IS expected if you are initializing BertLMHeadModel from the checkpoint of a model trained on another task or with another architecture (e.g. initializing a BertForSequenceClassification model from a BertForPreTraining model).\n",
      "- This IS NOT expected if you are initializing BertLMHeadModel from the checkpoint of a model that you expect to be exactly identical (initializing a BertForSequenceClassification model from a BertForSequenceClassification model).\n",
      "Some weights of BertLMHeadModel were not initialized from the model checkpoint at bert-base-multilingual-cased and are newly initialized: ['bert.encoder.layer.9.crossattention.output.dense.weight', 'bert.encoder.layer.1.crossattention.self.key.weight', 'bert.encoder.layer.6.crossattention.self.key.bias', 'bert.encoder.layer.10.crossattention.self.query.weight', 'bert.encoder.layer.4.crossattention.output.dense.weight', 'bert.encoder.layer.3.crossattention.output.dense.weight', 'bert.encoder.layer.5.crossattention.self.query.bias', 'bert.encoder.layer.10.crossattention.output.LayerNorm.weight', 'bert.encoder.layer.6.crossattention.output.LayerNorm.bias', 'bert.encoder.layer.4.crossattention.self.value.weight', 'bert.encoder.layer.9.crossattention.self.query.bias', 'bert.encoder.layer.7.crossattention.output.dense.weight', 'bert.encoder.layer.0.crossattention.self.value.bias', 'bert.encoder.layer.7.crossattention.output.LayerNorm.weight', 'bert.encoder.layer.7.crossattention.self.query.bias', 'bert.encoder.layer.11.crossattention.output.LayerNorm.bias', 'bert.encoder.layer.4.crossattention.self.query.weight', 'bert.encoder.layer.3.crossattention.self.query.weight', 'bert.encoder.layer.2.crossattention.self.value.bias', 'bert.encoder.layer.10.crossattention.self.value.weight', 'bert.encoder.layer.7.crossattention.output.LayerNorm.bias', 'bert.encoder.layer.11.crossattention.self.query.bias', 'bert.encoder.layer.3.crossattention.self.value.bias', 'bert.encoder.layer.1.crossattention.output.LayerNorm.weight', 'bert.encoder.layer.11.crossattention.self.key.weight', 'bert.encoder.layer.0.crossattention.self.key.weight', 'bert.encoder.layer.9.crossattention.self.value.weight', 'bert.encoder.layer.9.crossattention.self.key.bias', 'bert.encoder.layer.8.crossattention.self.key.bias', 'bert.encoder.layer.10.crossattention.output.LayerNorm.bias', 'bert.encoder.layer.8.crossattention.output.LayerNorm.weight', 'bert.encoder.layer.8.crossattention.self.key.weight', 'bert.encoder.layer.2.crossattention.output.dense.weight', 'bert.encoder.layer.11.crossattention.output.dense.weight', 'bert.encoder.layer.6.crossattention.self.value.bias', 'bert.encoder.layer.7.crossattention.self.value.weight', 'bert.encoder.layer.1.crossattention.output.LayerNorm.bias', 'bert.encoder.layer.5.crossattention.self.value.bias', 'bert.encoder.layer.4.crossattention.self.key.bias', 'bert.encoder.layer.3.crossattention.self.query.bias', 'bert.encoder.layer.5.crossattention.output.dense.weight', 'bert.encoder.layer.9.crossattention.output.dense.bias', 'bert.encoder.layer.6.crossattention.self.value.weight', 'bert.encoder.layer.6.crossattention.output.dense.bias', 'bert.encoder.layer.7.crossattention.self.key.weight', 'bert.encoder.layer.5.crossattention.self.value.weight', 'bert.encoder.layer.1.crossattention.output.dense.bias', 'bert.encoder.layer.11.crossattention.self.key.bias', 'bert.encoder.layer.6.crossattention.output.dense.weight', 'bert.encoder.layer.11.crossattention.self.query.weight', 'bert.encoder.layer.1.crossattention.self.value.bias', 'bert.encoder.layer.2.crossattention.output.LayerNorm.bias', 'bert.encoder.layer.10.crossattention.self.query.bias', 'bert.encoder.layer.0.crossattention.self.value.weight', 'bert.encoder.layer.7.crossattention.output.dense.bias', 'bert.encoder.layer.2.crossattention.self.query.bias', 'bert.encoder.layer.0.crossattention.self.query.bias', 'bert.encoder.layer.4.crossattention.output.LayerNorm.weight', 'bert.encoder.layer.1.crossattention.output.dense.weight', 'bert.encoder.layer.8.crossattention.self.value.bias', 'bert.encoder.layer.8.crossattention.self.query.bias', 'bert.encoder.layer.5.crossattention.self.key.bias', 'bert.encoder.layer.10.crossattention.output.dense.bias', 'bert.encoder.layer.1.crossattention.self.query.bias', 'bert.encoder.layer.9.crossattention.self.query.weight', 'bert.encoder.layer.5.crossattention.output.LayerNorm.weight', 'bert.encoder.layer.5.crossattention.output.dense.bias', 'bert.encoder.layer.4.crossattention.output.dense.bias', 'bert.encoder.layer.8.crossattention.output.dense.weight', 'bert.encoder.layer.2.crossattention.self.key.weight', 'bert.encoder.layer.2.crossattention.self.query.weight', 'bert.encoder.layer.10.crossattention.self.key.weight', 'bert.encoder.layer.4.crossattention.self.key.weight', 'bert.encoder.layer.9.crossattention.output.LayerNorm.bias', 'bert.encoder.layer.10.crossattention.output.dense.weight', 'bert.encoder.layer.9.crossattention.self.key.weight', 'bert.encoder.layer.2.crossattention.self.key.bias', 'bert.encoder.layer.11.crossattention.output.dense.bias', 'bert.encoder.layer.2.crossattention.self.value.weight', 'bert.encoder.layer.8.crossattention.self.value.weight', 'bert.encoder.layer.3.crossattention.self.key.bias', 'bert.encoder.layer.3.crossattention.output.dense.bias', 'bert.encoder.layer.10.crossattention.self.value.bias', 'bert.encoder.layer.10.crossattention.self.key.bias', 'bert.encoder.layer.6.crossattention.self.key.weight', 'bert.encoder.layer.4.crossattention.self.value.bias', 'bert.encoder.layer.7.crossattention.self.key.bias', 'bert.encoder.layer.2.crossattention.output.LayerNorm.weight', 'bert.encoder.layer.8.crossattention.self.query.weight', 'bert.encoder.layer.6.crossattention.self.query.weight', 'bert.encoder.layer.0.crossattention.self.query.weight', 'bert.encoder.layer.5.crossattention.self.query.weight', 'bert.encoder.layer.4.crossattention.self.query.bias', 'bert.encoder.layer.1.crossattention.self.value.weight', 'bert.encoder.layer.4.crossattention.output.LayerNorm.bias', 'bert.encoder.layer.3.crossattention.self.key.weight', 'bert.encoder.layer.7.crossattention.self.query.weight', 'bert.encoder.layer.3.crossattention.output.LayerNorm.bias', 'bert.encoder.layer.6.crossattention.output.LayerNorm.weight', 'bert.encoder.layer.0.crossattention.output.dense.bias', 'bert.encoder.layer.3.crossattention.output.LayerNorm.weight', 'bert.encoder.layer.0.crossattention.self.key.bias', 'bert.encoder.layer.0.crossattention.output.LayerNorm.bias', 'bert.encoder.layer.6.crossattention.self.query.bias', 'bert.encoder.layer.9.crossattention.self.value.bias', 'bert.encoder.layer.0.crossattention.output.LayerNorm.weight', 'bert.encoder.layer.1.crossattention.self.key.bias', 'bert.encoder.layer.5.crossattention.self.key.weight', 'bert.encoder.layer.2.crossattention.output.dense.bias', 'bert.encoder.layer.7.crossattention.self.value.bias', 'bert.encoder.layer.8.crossattention.output.LayerNorm.bias', 'bert.encoder.layer.11.crossattention.output.LayerNorm.weight', 'bert.encoder.layer.9.crossattention.output.LayerNorm.weight', 'bert.encoder.layer.11.crossattention.self.value.weight', 'bert.encoder.layer.11.crossattention.self.value.bias', 'bert.encoder.layer.5.crossattention.output.LayerNorm.bias', 'bert.encoder.layer.3.crossattention.self.value.weight', 'bert.encoder.layer.8.crossattention.output.dense.bias', 'bert.encoder.layer.1.crossattention.self.query.weight', 'bert.encoder.layer.0.crossattention.output.dense.weight']\n",
      "You should probably TRAIN this model on a down-stream task to be able to use it for predictions and inference.\n"
     ]
    }
   ],
   "source": [
    "from transformers import EncoderDecoderModel\n",
    "model = EncoderDecoderModel.from_encoder_decoder_pretrained('bert-base-multilingual-cased', 'bert-base-multilingual-cased')"
   ]
  },
  {
   "cell_type": "code",
   "execution_count": 28,
   "metadata": {},
   "outputs": [],
   "source": [
    "# model.add_adapter(\"testing\")\n",
    "# model.encoder.encoder.layer[0].output.adapters[\"testing\"].adapter_down[0].weight"
   ]
  },
  {
   "cell_type": "code",
   "execution_count": 29,
   "metadata": {},
   "outputs": [],
   "source": [
    "# model.decoder.bert.encoder.layer[0].output.adapters[\"testing\"].adapter_down[0].weight"
   ]
  },
  {
   "cell_type": "code",
   "execution_count": 30,
   "metadata": {},
   "outputs": [
    {
     "name": "stdout",
     "output_type": "stream",
     "text": [
      "encoder.encoder.layer.0.output.adapters.testing.adapter_down.0.weight True\n",
      "encoder.encoder.layer.0.output.adapters.testing.adapter_down.0.bias True\n",
      "encoder.encoder.layer.0.output.adapters.testing.adapter_up.weight True\n",
      "encoder.encoder.layer.0.output.adapters.testing.adapter_up.bias True\n",
      "encoder.encoder.layer.1.output.adapters.testing.adapter_down.0.weight True\n",
      "encoder.encoder.layer.1.output.adapters.testing.adapter_down.0.bias True\n",
      "encoder.encoder.layer.1.output.adapters.testing.adapter_up.weight True\n",
      "encoder.encoder.layer.1.output.adapters.testing.adapter_up.bias True\n",
      "encoder.encoder.layer.2.output.adapters.testing.adapter_down.0.weight True\n",
      "encoder.encoder.layer.2.output.adapters.testing.adapter_down.0.bias True\n",
      "encoder.encoder.layer.2.output.adapters.testing.adapter_up.weight True\n",
      "encoder.encoder.layer.2.output.adapters.testing.adapter_up.bias True\n",
      "encoder.encoder.layer.3.output.adapters.testing.adapter_down.0.weight True\n",
      "encoder.encoder.layer.3.output.adapters.testing.adapter_down.0.bias True\n",
      "encoder.encoder.layer.3.output.adapters.testing.adapter_up.weight True\n",
      "encoder.encoder.layer.3.output.adapters.testing.adapter_up.bias True\n",
      "encoder.encoder.layer.4.output.adapters.testing.adapter_down.0.weight True\n",
      "encoder.encoder.layer.4.output.adapters.testing.adapter_down.0.bias True\n",
      "encoder.encoder.layer.4.output.adapters.testing.adapter_up.weight True\n",
      "encoder.encoder.layer.4.output.adapters.testing.adapter_up.bias True\n",
      "encoder.encoder.layer.5.output.adapters.testing.adapter_down.0.weight True\n",
      "encoder.encoder.layer.5.output.adapters.testing.adapter_down.0.bias True\n",
      "encoder.encoder.layer.5.output.adapters.testing.adapter_up.weight True\n",
      "encoder.encoder.layer.5.output.adapters.testing.adapter_up.bias True\n",
      "encoder.encoder.layer.6.output.adapters.testing.adapter_down.0.weight True\n",
      "encoder.encoder.layer.6.output.adapters.testing.adapter_down.0.bias True\n",
      "encoder.encoder.layer.6.output.adapters.testing.adapter_up.weight True\n",
      "encoder.encoder.layer.6.output.adapters.testing.adapter_up.bias True\n",
      "encoder.encoder.layer.7.output.adapters.testing.adapter_down.0.weight True\n",
      "encoder.encoder.layer.7.output.adapters.testing.adapter_down.0.bias True\n",
      "encoder.encoder.layer.7.output.adapters.testing.adapter_up.weight True\n",
      "encoder.encoder.layer.7.output.adapters.testing.adapter_up.bias True\n",
      "encoder.encoder.layer.8.output.adapters.testing.adapter_down.0.weight True\n",
      "encoder.encoder.layer.8.output.adapters.testing.adapter_down.0.bias True\n",
      "encoder.encoder.layer.8.output.adapters.testing.adapter_up.weight True\n",
      "encoder.encoder.layer.8.output.adapters.testing.adapter_up.bias True\n",
      "encoder.encoder.layer.9.output.adapters.testing.adapter_down.0.weight True\n",
      "encoder.encoder.layer.9.output.adapters.testing.adapter_down.0.bias True\n",
      "encoder.encoder.layer.9.output.adapters.testing.adapter_up.weight True\n",
      "encoder.encoder.layer.9.output.adapters.testing.adapter_up.bias True\n",
      "encoder.encoder.layer.10.output.adapters.testing.adapter_down.0.weight True\n",
      "encoder.encoder.layer.10.output.adapters.testing.adapter_down.0.bias True\n",
      "encoder.encoder.layer.10.output.adapters.testing.adapter_up.weight True\n",
      "encoder.encoder.layer.10.output.adapters.testing.adapter_up.bias True\n",
      "encoder.encoder.layer.11.output.adapters.testing.adapter_down.0.weight True\n",
      "encoder.encoder.layer.11.output.adapters.testing.adapter_down.0.bias True\n",
      "encoder.encoder.layer.11.output.adapters.testing.adapter_up.weight True\n",
      "encoder.encoder.layer.11.output.adapters.testing.adapter_up.bias True\n",
      "decoder.bert.encoder.layer.0.crossattention.self.query.weight False\n",
      "decoder.bert.encoder.layer.0.crossattention.self.query.bias False\n",
      "decoder.bert.encoder.layer.0.crossattention.self.key.weight False\n",
      "decoder.bert.encoder.layer.0.crossattention.self.key.bias False\n",
      "decoder.bert.encoder.layer.0.crossattention.self.value.weight False\n",
      "decoder.bert.encoder.layer.0.crossattention.self.value.bias False\n",
      "decoder.bert.encoder.layer.0.crossattention.output.dense.weight False\n",
      "decoder.bert.encoder.layer.0.crossattention.output.dense.bias False\n",
      "decoder.bert.encoder.layer.0.crossattention.output.LayerNorm.weight False\n",
      "decoder.bert.encoder.layer.0.crossattention.output.LayerNorm.bias False\n",
      "decoder.bert.encoder.layer.1.crossattention.self.query.weight False\n",
      "decoder.bert.encoder.layer.1.crossattention.self.query.bias False\n",
      "decoder.bert.encoder.layer.1.crossattention.self.key.weight False\n",
      "decoder.bert.encoder.layer.1.crossattention.self.key.bias False\n",
      "decoder.bert.encoder.layer.1.crossattention.self.value.weight False\n",
      "decoder.bert.encoder.layer.1.crossattention.self.value.bias False\n",
      "decoder.bert.encoder.layer.1.crossattention.output.dense.weight False\n",
      "decoder.bert.encoder.layer.1.crossattention.output.dense.bias False\n",
      "decoder.bert.encoder.layer.1.crossattention.output.LayerNorm.weight False\n",
      "decoder.bert.encoder.layer.1.crossattention.output.LayerNorm.bias False\n",
      "decoder.bert.encoder.layer.2.crossattention.self.query.weight False\n",
      "decoder.bert.encoder.layer.2.crossattention.self.query.bias False\n",
      "decoder.bert.encoder.layer.2.crossattention.self.key.weight False\n",
      "decoder.bert.encoder.layer.2.crossattention.self.key.bias False\n",
      "decoder.bert.encoder.layer.2.crossattention.self.value.weight False\n",
      "decoder.bert.encoder.layer.2.crossattention.self.value.bias False\n",
      "decoder.bert.encoder.layer.2.crossattention.output.dense.weight False\n",
      "decoder.bert.encoder.layer.2.crossattention.output.dense.bias False\n",
      "decoder.bert.encoder.layer.2.crossattention.output.LayerNorm.weight False\n",
      "decoder.bert.encoder.layer.2.crossattention.output.LayerNorm.bias False\n",
      "decoder.bert.encoder.layer.3.crossattention.self.query.weight False\n",
      "decoder.bert.encoder.layer.3.crossattention.self.query.bias False\n",
      "decoder.bert.encoder.layer.3.crossattention.self.key.weight False\n",
      "decoder.bert.encoder.layer.3.crossattention.self.key.bias False\n",
      "decoder.bert.encoder.layer.3.crossattention.self.value.weight False\n",
      "decoder.bert.encoder.layer.3.crossattention.self.value.bias False\n",
      "decoder.bert.encoder.layer.3.crossattention.output.dense.weight False\n",
      "decoder.bert.encoder.layer.3.crossattention.output.dense.bias False\n",
      "decoder.bert.encoder.layer.3.crossattention.output.LayerNorm.weight False\n",
      "decoder.bert.encoder.layer.3.crossattention.output.LayerNorm.bias False\n",
      "decoder.bert.encoder.layer.4.crossattention.self.query.weight False\n",
      "decoder.bert.encoder.layer.4.crossattention.self.query.bias False\n",
      "decoder.bert.encoder.layer.4.crossattention.self.key.weight False\n",
      "decoder.bert.encoder.layer.4.crossattention.self.key.bias False\n",
      "decoder.bert.encoder.layer.4.crossattention.self.value.weight False\n",
      "decoder.bert.encoder.layer.4.crossattention.self.value.bias False\n",
      "decoder.bert.encoder.layer.4.crossattention.output.dense.weight False\n",
      "decoder.bert.encoder.layer.4.crossattention.output.dense.bias False\n",
      "decoder.bert.encoder.layer.4.crossattention.output.LayerNorm.weight False\n",
      "decoder.bert.encoder.layer.4.crossattention.output.LayerNorm.bias False\n",
      "decoder.bert.encoder.layer.5.crossattention.self.query.weight False\n",
      "decoder.bert.encoder.layer.5.crossattention.self.query.bias False\n",
      "decoder.bert.encoder.layer.5.crossattention.self.key.weight False\n",
      "decoder.bert.encoder.layer.5.crossattention.self.key.bias False\n",
      "decoder.bert.encoder.layer.5.crossattention.self.value.weight False\n",
      "decoder.bert.encoder.layer.5.crossattention.self.value.bias False\n",
      "decoder.bert.encoder.layer.5.crossattention.output.dense.weight False\n",
      "decoder.bert.encoder.layer.5.crossattention.output.dense.bias False\n",
      "decoder.bert.encoder.layer.5.crossattention.output.LayerNorm.weight False\n",
      "decoder.bert.encoder.layer.5.crossattention.output.LayerNorm.bias False\n",
      "decoder.bert.encoder.layer.6.crossattention.self.query.weight False\n",
      "decoder.bert.encoder.layer.6.crossattention.self.query.bias False\n",
      "decoder.bert.encoder.layer.6.crossattention.self.key.weight False\n",
      "decoder.bert.encoder.layer.6.crossattention.self.key.bias False\n",
      "decoder.bert.encoder.layer.6.crossattention.self.value.weight False\n",
      "decoder.bert.encoder.layer.6.crossattention.self.value.bias False\n",
      "decoder.bert.encoder.layer.6.crossattention.output.dense.weight False\n",
      "decoder.bert.encoder.layer.6.crossattention.output.dense.bias False\n",
      "decoder.bert.encoder.layer.6.crossattention.output.LayerNorm.weight False\n",
      "decoder.bert.encoder.layer.6.crossattention.output.LayerNorm.bias False\n",
      "decoder.bert.encoder.layer.7.crossattention.self.query.weight False\n",
      "decoder.bert.encoder.layer.7.crossattention.self.query.bias False\n",
      "decoder.bert.encoder.layer.7.crossattention.self.key.weight False\n",
      "decoder.bert.encoder.layer.7.crossattention.self.key.bias False\n",
      "decoder.bert.encoder.layer.7.crossattention.self.value.weight False\n",
      "decoder.bert.encoder.layer.7.crossattention.self.value.bias False\n",
      "decoder.bert.encoder.layer.7.crossattention.output.dense.weight False\n",
      "decoder.bert.encoder.layer.7.crossattention.output.dense.bias False\n",
      "decoder.bert.encoder.layer.7.crossattention.output.LayerNorm.weight False\n",
      "decoder.bert.encoder.layer.7.crossattention.output.LayerNorm.bias False\n",
      "decoder.bert.encoder.layer.8.crossattention.self.query.weight False\n",
      "decoder.bert.encoder.layer.8.crossattention.self.query.bias False\n",
      "decoder.bert.encoder.layer.8.crossattention.self.key.weight False\n",
      "decoder.bert.encoder.layer.8.crossattention.self.key.bias False\n",
      "decoder.bert.encoder.layer.8.crossattention.self.value.weight False\n",
      "decoder.bert.encoder.layer.8.crossattention.self.value.bias False\n",
      "decoder.bert.encoder.layer.8.crossattention.output.dense.weight False\n",
      "decoder.bert.encoder.layer.8.crossattention.output.dense.bias False\n",
      "decoder.bert.encoder.layer.8.crossattention.output.LayerNorm.weight False\n",
      "decoder.bert.encoder.layer.8.crossattention.output.LayerNorm.bias False\n",
      "decoder.bert.encoder.layer.9.crossattention.self.query.weight False\n",
      "decoder.bert.encoder.layer.9.crossattention.self.query.bias False\n",
      "decoder.bert.encoder.layer.9.crossattention.self.key.weight False\n",
      "decoder.bert.encoder.layer.9.crossattention.self.key.bias False\n",
      "decoder.bert.encoder.layer.9.crossattention.self.value.weight False\n",
      "decoder.bert.encoder.layer.9.crossattention.self.value.bias False\n",
      "decoder.bert.encoder.layer.9.crossattention.output.dense.weight False\n",
      "decoder.bert.encoder.layer.9.crossattention.output.dense.bias False\n",
      "decoder.bert.encoder.layer.9.crossattention.output.LayerNorm.weight False\n",
      "decoder.bert.encoder.layer.9.crossattention.output.LayerNorm.bias False\n",
      "decoder.bert.encoder.layer.10.crossattention.self.query.weight False\n",
      "decoder.bert.encoder.layer.10.crossattention.self.query.bias False\n",
      "decoder.bert.encoder.layer.10.crossattention.self.key.weight False\n",
      "decoder.bert.encoder.layer.10.crossattention.self.key.bias False\n",
      "decoder.bert.encoder.layer.10.crossattention.self.value.weight False\n",
      "decoder.bert.encoder.layer.10.crossattention.self.value.bias False\n",
      "decoder.bert.encoder.layer.10.crossattention.output.dense.weight False\n",
      "decoder.bert.encoder.layer.10.crossattention.output.dense.bias False\n",
      "decoder.bert.encoder.layer.10.crossattention.output.LayerNorm.weight False\n",
      "decoder.bert.encoder.layer.10.crossattention.output.LayerNorm.bias False\n",
      "decoder.bert.encoder.layer.11.crossattention.self.query.weight False\n",
      "decoder.bert.encoder.layer.11.crossattention.self.query.bias False\n",
      "decoder.bert.encoder.layer.11.crossattention.self.key.weight False\n",
      "decoder.bert.encoder.layer.11.crossattention.self.key.bias False\n",
      "decoder.bert.encoder.layer.11.crossattention.self.value.weight False\n",
      "decoder.bert.encoder.layer.11.crossattention.self.value.bias False\n",
      "decoder.bert.encoder.layer.11.crossattention.output.dense.weight False\n",
      "decoder.bert.encoder.layer.11.crossattention.output.dense.bias False\n",
      "decoder.bert.encoder.layer.11.crossattention.output.LayerNorm.weight False\n",
      "decoder.bert.encoder.layer.11.crossattention.output.LayerNorm.bias False\n"
     ]
    }
   ],
   "source": [
    "model.encoder.add_adapter(\"testing\")\n",
    "model.train_adapter(\"testing\")\n",
    "# model.active_adapters\n",
    "for k, v in model.named_parameters():\n",
    "    if \"adapters\" in k or \"crossattention\" in k:\n",
    "        print(k, v.requires_grad)"
   ]
  },
  {
   "cell_type": "code",
   "execution_count": null,
   "metadata": {},
   "outputs": [],
   "source": []
  }
 ],
 "metadata": {
  "interpreter": {
   "hash": "2d9a048adca364fc36fb99f1daf3deb602561ed8ca21e01973742acf969670f7"
  },
  "kernelspec": {
   "display_name": "Python 3.8.12 64-bit ('thesis': conda)",
   "name": "python3"
  },
  "language_info": {
   "codemirror_mode": {
    "name": "ipython",
    "version": 3
   },
   "file_extension": ".py",
   "mimetype": "text/x-python",
   "name": "python",
   "nbconvert_exporter": "python",
   "pygments_lexer": "ipython3",
   "version": "3.8.12"
  },
  "orig_nbformat": 4
 },
 "nbformat": 4,
 "nbformat_minor": 2
}
