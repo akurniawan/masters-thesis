{
 "cells": [
  {
   "cell_type": "code",
   "execution_count": 1,
   "id": "80642565-731f-433e-b037-69956a2c328b",
   "metadata": {},
   "outputs": [],
   "source": [
    "import torch\n",
    "from transformers import BertModel"
   ]
  },
  {
   "cell_type": "code",
   "execution_count": 25,
   "id": "59818570",
   "metadata": {},
   "outputs": [
    {
     "data": {
      "text/plain": [
       "tensor([[0., 1., 0., 1.],\n",
       "        [0., 1., 0., 1.]])"
      ]
     },
     "execution_count": 25,
     "metadata": {},
     "output_type": "execute_result"
    }
   ],
   "source": [
    "a = torch.zeros(2, 4)\n",
    "a[:, range(1, a.size()[1], 2)] = 1.\n",
    "a"
   ]
  },
  {
   "cell_type": "code",
   "execution_count": null,
   "id": "0e6f8121",
   "metadata": {},
   "outputs": [],
   "source": []
  },
  {
   "cell_type": "code",
   "execution_count": 37,
   "id": "180ce2f1-2f14-42c9-8c28-8f670c7ef694",
   "metadata": {},
   "outputs": [
    {
     "name": "stderr",
     "output_type": "stream",
     "text": [
      "Some weights of the model checkpoint at bert-base-uncased were not used when initializing BertModel: ['cls.predictions.transform.LayerNorm.weight', 'cls.predictions.transform.dense.weight', 'cls.seq_relationship.bias', 'cls.predictions.bias', 'cls.predictions.decoder.weight', 'cls.predictions.transform.LayerNorm.bias', 'cls.predictions.transform.dense.bias', 'cls.seq_relationship.weight']\n",
      "- This IS expected if you are initializing BertModel from the checkpoint of a model trained on another task or with another architecture (e.g. initializing a BertForSequenceClassification model from a BertForPreTraining model).\n",
      "- This IS NOT expected if you are initializing BertModel from the checkpoint of a model that you expect to be exactly identical (initializing a BertForSequenceClassification model from a BertForSequenceClassification model).\n",
      "Some weights of the model checkpoint at bert-base-german-dbmdz-uncased were not used when initializing BertModel: ['cls.predictions.transform.LayerNorm.weight', 'cls.predictions.transform.dense.weight', 'cls.seq_relationship.bias', 'cls.predictions.bias', 'cls.predictions.decoder.weight', 'cls.predictions.transform.LayerNorm.bias', 'cls.predictions.transform.dense.bias', 'cls.seq_relationship.weight']\n",
      "- This IS expected if you are initializing BertModel from the checkpoint of a model trained on another task or with another architecture (e.g. initializing a BertForSequenceClassification model from a BertForPreTraining model).\n",
      "- This IS NOT expected if you are initializing BertModel from the checkpoint of a model that you expect to be exactly identical (initializing a BertForSequenceClassification model from a BertForSequenceClassification model).\n"
     ]
    }
   ],
   "source": [
    "model_en = BertModel.from_pretrained(\"bert-base-uncased\")\n",
    "model_de = BertModel.from_pretrained(\"bert-base-german-dbmdz-uncased\")"
   ]
  },
  {
   "cell_type": "code",
   "execution_count": 38,
   "id": "a6dc0aef-0bcf-4357-996c-7af4a46b3560",
   "metadata": {},
   "outputs": [],
   "source": [
    "def row_shuffling(tensor):\n",
    "    return tensor[torch.randperm(tensor.size()[0])]\n",
    "\n",
    "def col_shuffling(tensor):\n",
    "#     print(tensor.size(), torch.randperm(tensor.size()[1]))\n",
    "    if len(tensor.size()) == 2:\n",
    "        return tensor[:, torch.randperm(tensor.size()[1])]\n",
    "    elif len(tensor.size()) == 1:\n",
    "        return tensor[torch.randperm(tensor.size()[0])]\n",
    "    else:\n",
    "        raise ValueError(f\"tensor contains {len(tensor.size())} dimensions\")\n",
    "\n",
    "def col_zeroing(tensor):\n",
    "    # print(tensor[:, range(1, tensor.size()[1])].data)\n",
    "    zt = torch.zeros(tensor.size())\n",
    "    if len(tensor.size()) == 2:\n",
    "        zt[:, range(0, tensor.size()[1], 2)] = 1.\n",
    "        res = tensor * zt\n",
    "    elif len(tensor.size()) == 1:\n",
    "        zt[range(0, tensor.size()[0], 2)] = 1.\n",
    "        res = tensor * zt\n",
    "    else:\n",
    "        raise ValueError(f\"tensor contains {len(tensor.size())} dimensions\")\n",
    "    return res"
   ]
  },
  {
   "cell_type": "code",
   "execution_count": 39,
   "id": "dd76fdb5",
   "metadata": {},
   "outputs": [],
   "source": [
    "new_params_en = {}\n",
    "for k, v in model_en.named_parameters():\n",
    "    if \"encoder.layer\" in k:\n",
    "        new_params_en[k] = col_zeroing(v)\n",
    "    else:\n",
    "        new_params_en[k] = v\n",
    "\n",
    "new_params_de = {}\n",
    "for k, v in model_de.named_parameters():\n",
    "    if \"encoder.layer\" in k:\n",
    "        new_params_de[k] = col_zeroing(v)\n",
    "    else:\n",
    "        new_params_de[k] = v"
   ]
  },
  {
   "cell_type": "code",
   "execution_count": 6,
   "id": "c76228ce-7acf-4eb9-a592-a0fc946c3a38",
   "metadata": {},
   "outputs": [],
   "source": [
    "# new_params_en = {}\n",
    "# for k, v in model_en.named_parameters():\n",
    "#     if \"encoder.layer\" in k:\n",
    "#         new_params_en[k] = col_shuffling(v)\n",
    "#     else:\n",
    "#         new_params_en[k] = v\n",
    "        \n",
    "# new_params_de = {}\n",
    "# for k, v in model_de.named_parameters():\n",
    "#     if \"encoder.layer\" in k:\n",
    "#         new_params_de[k] = row_shuffling(col_shuffling(v))\n",
    "#     else:\n",
    "#         new_params_de[k] = v"
   ]
  },
  {
   "cell_type": "markdown",
   "id": "11b5455c",
   "metadata": {},
   "source": []
  },
  {
   "cell_type": "code",
   "execution_count": 40,
   "id": "da5f99cf-3544-4fe6-a743-2371be8639ac",
   "metadata": {},
   "outputs": [
    {
     "data": {
      "text/plain": [
       "_IncompatibleKeys(missing_keys=['embeddings.position_ids'], unexpected_keys=[])"
      ]
     },
     "execution_count": 40,
     "metadata": {},
     "output_type": "execute_result"
    }
   ],
   "source": [
    "model_en.load_state_dict(new_params_en, strict=False)\n",
    "model_de.load_state_dict(new_params_de, strict=False)"
   ]
  },
  {
   "cell_type": "code",
   "execution_count": 41,
   "id": "8c951c30-e746-4c3c-94a5-26fb61061bd2",
   "metadata": {},
   "outputs": [],
   "source": [
    "model_de.save_pretrained(\"./bert_de_zeroed\")\n",
    "model_en.save_pretrained(\"./bert_en_zeroed\")"
   ]
  },
  {
   "cell_type": "code",
   "execution_count": 42,
   "id": "2e8f5316-dde5-428b-bac4-b7acc001fee2",
   "metadata": {},
   "outputs": [],
   "source": [
    "x = torch.load(\"./bert_de_zeroed/pytorch_model.bin\")"
   ]
  },
  {
   "cell_type": "code",
   "execution_count": 49,
   "id": "09b09653-3b6a-4391-9f8c-6df536e07d2d",
   "metadata": {},
   "outputs": [
    {
     "data": {
      "text/plain": [
       "tensor(1)"
      ]
     },
     "execution_count": 49,
     "metadata": {},
     "output_type": "execute_result"
    }
   ],
   "source": [
    "# for k, v in x.items():\n",
    "#     print(k)\n",
    "(x[\"encoder.layer.11.intermediate.dense.bias\"] == model_de.encoder.layer[11].intermediate.dense.bias).sum()"
   ]
  },
  {
   "cell_type": "code",
   "execution_count": 43,
   "id": "504a1ac3-b608-4a46-9f37-c051da0e5429",
   "metadata": {},
   "outputs": [
    {
     "data": {
      "text/plain": [
       "tensor([-0.0948, -0.0000, -0.0867,  ..., -0.0000, -0.0841, -0.0000])"
      ]
     },
     "execution_count": 43,
     "metadata": {},
     "output_type": "execute_result"
    }
   ],
   "source": [
    "x[\"encoder.layer.11.intermediate.dense.bias\"]"
   ]
  },
  {
   "cell_type": "code",
   "execution_count": 51,
   "id": "b2bc76b2-a62f-48b9-98b8-02718c2d1515",
   "metadata": {},
   "outputs": [
    {
     "data": {
      "text/plain": [
       "Parameter containing:\n",
       "tensor([-0.0948, -0.0831, -0.0867,  ..., -0.0764, -0.0841, -0.0663],\n",
       "       requires_grad=True)"
      ]
     },
     "execution_count": 51,
     "metadata": {},
     "output_type": "execute_result"
    }
   ],
   "source": [
    "model_de.encoder.layer[11].intermediate.dense.bias"
   ]
  },
  {
   "cell_type": "code",
   "execution_count": 52,
   "id": "a955be84-693e-41b4-ba4c-4da86c08b031",
   "metadata": {},
   "outputs": [
    {
     "data": {
      "text/plain": [
       "Parameter containing:\n",
       "tensor([-0.0065,  0.0069, -0.0739,  ..., -0.0475, -0.0874, -0.0548],\n",
       "       requires_grad=True)"
      ]
     },
     "execution_count": 52,
     "metadata": {},
     "output_type": "execute_result"
    }
   ],
   "source": [
    "model_de.load_state_dict(x)\n",
    "model_de.encoder.layer[11].intermediate.dense.bias"
   ]
  },
  {
   "cell_type": "code",
   "execution_count": null,
   "id": "ab400854-9f77-44c3-8f16-c5afccc0b264",
   "metadata": {},
   "outputs": [],
   "source": []
  }
 ],
 "metadata": {
  "kernelspec": {
   "display_name": "Python 3 (ipykernel)",
   "language": "python",
   "name": "python3"
  },
  "language_info": {
   "codemirror_mode": {
    "name": "ipython",
    "version": 3
   },
   "file_extension": ".py",
   "mimetype": "text/x-python",
   "name": "python",
   "nbconvert_exporter": "python",
   "pygments_lexer": "ipython3",
   "version": "3.8.12"
  }
 },
 "nbformat": 4,
 "nbformat_minor": 5
}
