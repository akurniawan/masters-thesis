{
 "cells": [
  {
   "cell_type": "code",
   "execution_count": 21,
   "id": "80642565-731f-433e-b037-69956a2c328b",
   "metadata": {},
   "outputs": [],
   "source": [
    "import torch\n",
    "from transformers import BertModel, BertConfig"
   ]
  },
  {
   "cell_type": "code",
   "execution_count": 2,
   "id": "59818570",
   "metadata": {},
   "outputs": [
    {
     "data": {
      "text/plain": [
       "tensor([[0., 1., 0., 1.],\n",
       "        [0., 1., 0., 1.]])"
      ]
     },
     "execution_count": 2,
     "metadata": {},
     "output_type": "execute_result"
    }
   ],
   "source": [
    "a = torch.zeros(2, 4)\n",
    "a[:, range(1, a.size()[1], 2)] = 1.\n",
    "a"
   ]
  },
  {
   "cell_type": "code",
   "execution_count": null,
   "id": "0e6f8121",
   "metadata": {},
   "outputs": [],
   "source": []
  },
  {
   "cell_type": "code",
   "execution_count": 3,
   "id": "180ce2f1-2f14-42c9-8c28-8f670c7ef694",
   "metadata": {},
   "outputs": [
    {
     "name": "stderr",
     "output_type": "stream",
     "text": [
      "Some weights of the model checkpoint at bert-base-uncased were not used when initializing BertModel: ['cls.predictions.transform.LayerNorm.bias', 'cls.seq_relationship.weight', 'cls.seq_relationship.bias', 'cls.predictions.bias', 'cls.predictions.decoder.weight', 'cls.predictions.transform.LayerNorm.weight', 'cls.predictions.transform.dense.weight', 'cls.predictions.transform.dense.bias']\n",
      "- This IS expected if you are initializing BertModel from the checkpoint of a model trained on another task or with another architecture (e.g. initializing a BertForSequenceClassification model from a BertForPreTraining model).\n",
      "- This IS NOT expected if you are initializing BertModel from the checkpoint of a model that you expect to be exactly identical (initializing a BertForSequenceClassification model from a BertForSequenceClassification model).\n",
      "Some weights of the model checkpoint at bert-base-german-dbmdz-uncased were not used when initializing BertModel: ['cls.predictions.transform.LayerNorm.bias', 'cls.seq_relationship.weight', 'cls.seq_relationship.bias', 'cls.predictions.bias', 'cls.predictions.decoder.weight', 'cls.predictions.transform.LayerNorm.weight', 'cls.predictions.transform.dense.weight', 'cls.predictions.transform.dense.bias']\n",
      "- This IS expected if you are initializing BertModel from the checkpoint of a model trained on another task or with another architecture (e.g. initializing a BertForSequenceClassification model from a BertForPreTraining model).\n",
      "- This IS NOT expected if you are initializing BertModel from the checkpoint of a model that you expect to be exactly identical (initializing a BertForSequenceClassification model from a BertForSequenceClassification model).\n"
     ]
    }
   ],
   "source": [
    "model_en = BertModel.from_pretrained(\"bert-base-uncased\")\n",
    "model_de = BertModel.from_pretrained(\"bert-base-german-dbmdz-uncased\")"
   ]
  },
  {
   "cell_type": "code",
   "execution_count": 75,
   "id": "a6dc0aef-0bcf-4357-996c-7af4a46b3560",
   "metadata": {},
   "outputs": [],
   "source": [
    "def row_shuffling(tensor):\n",
    "    return tensor[torch.randperm(tensor.size()[0])]\n",
    "\n",
    "def col_shuffling(tensor):\n",
    "#     print(tensor.size(), torch.randperm(tensor.size()[1]))\n",
    "    if len(tensor.size()) == 2:\n",
    "        return tensor[:, torch.randperm(tensor.size()[1])]\n",
    "    elif len(tensor.size()) == 1:\n",
    "        return tensor[torch.randperm(tensor.size()[0])]\n",
    "    else:\n",
    "        raise ValueError(f\"tensor contains {len(tensor.size())} dimensions\")\n",
    "\n",
    "        \n",
    "def col_zeroing(tensor):\n",
    "#     if len(tensor.size()) == 2:\n",
    "#         zt[:, range(0, tensor.size()[1], 2)] = 1.\n",
    "#         res = tensor * zt\n",
    "#     elif len(tensor.size()) == 1:\n",
    "#         zt[range(0, tensor.size()[0], 2)] = 1.\n",
    "#         res = tensor * zt\n",
    "#     else:\n",
    "#         raise ValueError(f\"tensor contains {len(tensor.size())} dimensions\")\n",
    "#     return res\n",
    "    zt = torch.zeros(tensor.size())\n",
    "    if len(tensor.size()) == 2:\n",
    "        fsz = tensor.size(0)\n",
    "        ssz = tensor.size(1)\n",
    "        if fsz == 768 and ssz == 768:\n",
    "            zt[:, range(0, tensor.size(1), 2)] = 1.\n",
    "            zt[0] = 0.\n",
    "            zt[range(2, tensor.size(0), 2), :] = 0.\n",
    "            res = tensor * zt\n",
    "        elif fsz == 768 and ssz != 768:\n",
    "            zt[0] = 0.\n",
    "            zt[range(2, tensor.size(0), 2), :] = 0.\n",
    "            res = tensor * zt\n",
    "        elif ssz == 768 and fsz != 768:\n",
    "            zt[:, range(0, tensor.size(1), 2)] = 1.\n",
    "            res = tensor * zt\n",
    "        else:\n",
    "            res = tensor\n",
    "    elif len(tensor.size()) == 1:\n",
    "        if tensor.size(0) == 768:\n",
    "            zt[range(0, tensor.size(0), 2)] = 1.\n",
    "            res = tensor * zt\n",
    "        else:\n",
    "            res = tensor\n",
    "    else:\n",
    "        raise ValueError(f\"tensor contains {len(tensor.size())} dimensions\")\n",
    "    return res\n",
    "\n",
    "\n",
    "def reduce_col(tensor):\n",
    "    # print(tensor[:, range(1, tensor.size()[1])].data)\n",
    "    if len(tensor.size()) == 2:\n",
    "        fsz = tensor.size(0)\n",
    "        ssz = tensor.size(1)\n",
    "        if fsz == 768 and ssz == 768:\n",
    "            zt = torch.zeros((tensor.size(0), fsz // 2))\n",
    "            zt = tensor[:, range(0, tensor.size(1), 2)]\n",
    "            sz = zt.size(0)\n",
    "            ft = torch.zeros((fsz // 2, zt.size(1)))\n",
    "            ft = zt[range(0, zt.size(0), 2), :]\n",
    "        elif fsz == 768 and ssz != 768:\n",
    "            ft = torch.zeros((fsz // 2, tensor.size(1)))\n",
    "            ft = tensor[range(0, tensor.size(0), 2), :]\n",
    "        elif ssz == 768 and fsz != 768:\n",
    "            ft = torch.zeros((tensor.size(0), ssz // 2))\n",
    "            ft = tensor[:, range(0, tensor.size(1), 2)]\n",
    "        else:\n",
    "            ft = tensor\n",
    "    elif len(tensor.size()) == 1:\n",
    "        if tensor.size(0) == 768:\n",
    "            fsz = tensor.size(0)\n",
    "            ft = torch.zeros(fsz // 2)\n",
    "            ft = tensor[range(0, tensor.size(0), 2)]\n",
    "        else:\n",
    "            ft = tensor\n",
    "    else:\n",
    "        raise ValueError(f\"tensor contains {len(tensor.size())} dimensions\")\n",
    "    return ft"
   ]
  },
  {
   "cell_type": "code",
   "execution_count": 76,
   "id": "cb7e0934-9e75-45e7-9730-b3f5e16f8e30",
   "metadata": {},
   "outputs": [],
   "source": [
    "# new_params_en = {}\n",
    "# for k, v in model_en.named_parameters():\n",
    "#     new_params_en[k] = reduce_col(v)\n",
    "# new_params_en[\"embeddings.position_ids\"] = model_en.embeddings.position_ids\n",
    "\n",
    "# new_params_de = {}\n",
    "# for k, v in model_de.named_parameters():\n",
    "#     new_params_de[k] = reduce_col(v)\n",
    "# new_params_de[\"embeddings.position_ids\"] = model_de.embeddings.position_ids"
   ]
  },
  {
   "cell_type": "code",
   "execution_count": 77,
   "id": "dd76fdb5",
   "metadata": {},
   "outputs": [],
   "source": [
    "new_params_en = {}\n",
    "for k, v in model_en.named_parameters():\n",
    "    new_params_en[k] = col_zeroing(v)\n",
    "new_params_en[\"embeddings.position_ids\"] = model_en.embeddings.position_ids\n",
    "\n",
    "new_params_de = {}\n",
    "for k, v in model_de.named_parameters():\n",
    "    new_params_de[k] = col_zeroing(v)\n",
    "new_params_de[\"embeddings.position_ids\"] = model_de.embeddings.position_ids"
   ]
  },
  {
   "cell_type": "code",
   "execution_count": 78,
   "id": "c5074071-588d-4606-a8aa-5dc844084a32",
   "metadata": {},
   "outputs": [
    {
     "data": {
      "text/plain": [
       "tensor([[-0.0000,  0.0000, -0.0000,  ...,  0.0000,  0.0000,  0.0000],\n",
       "        [-0.0326,  0.0000, -0.0423,  ..., -0.0000,  0.1393,  0.0000],\n",
       "        [ 0.0000,  0.0000,  0.0000,  ..., -0.0000,  0.0000, -0.0000],\n",
       "        ...,\n",
       "        [-0.0085,  0.0000,  0.0555,  ...,  0.0000,  0.0543, -0.0000],\n",
       "        [-0.0000,  0.0000,  0.0000,  ..., -0.0000,  0.0000,  0.0000],\n",
       "        [ 0.0015, -0.0000,  0.0099,  ..., -0.0000, -0.0508, -0.0000]],\n",
       "       grad_fn=<MulBackward0>)"
      ]
     },
     "execution_count": 78,
     "metadata": {},
     "output_type": "execute_result"
    }
   ],
   "source": [
    "# for k, v in new_params_en.items():\n",
    "#     print(k, v.size())\n",
    "new_params_en[\"encoder.layer.0.attention.self.query.weight\"]"
   ]
  },
  {
   "cell_type": "code",
   "execution_count": 6,
   "id": "c76228ce-7acf-4eb9-a592-a0fc946c3a38",
   "metadata": {},
   "outputs": [],
   "source": [
    "# new_params_en = {}\n",
    "# for k, v in model_en.named_parameters():\n",
    "#     if \"encoder.layer\" in k:\n",
    "#         new_params_en[k] = col_shuffling(v)\n",
    "#     else:\n",
    "#         new_params_en[k] = v\n",
    "        \n",
    "# new_params_de = {}\n",
    "# for k, v in model_de.named_parameters():\n",
    "#     if \"encoder.layer\" in k:\n",
    "#         new_params_de[k] = row_shuffling(col_shuffling(v))\n",
    "#     else:\n",
    "#         new_params_de[k] = v"
   ]
  },
  {
   "cell_type": "code",
   "execution_count": 50,
   "id": "252991e1-388e-4733-9cd4-b3a337885219",
   "metadata": {},
   "outputs": [],
   "source": [
    "# bert_en = BertModel(BertConfig(hidden_size=384))\n",
    "# bert_en.load_state_dict(new_params_en)\n",
    "# bert_en.save_pretrained(\"./bert_en_zero_reduced\")\n",
    "\n",
    "# bert_de = BertModel(BertConfig(vocab_size=31102, hidden_size=384))\n",
    "# bert_de.load_state_dict(new_params_de)\n",
    "# bert_de.save_pretrained(\"./bert_de_zero_reduced\")"
   ]
  },
  {
   "cell_type": "code",
   "execution_count": 79,
   "id": "da5f99cf-3544-4fe6-a743-2371be8639ac",
   "metadata": {},
   "outputs": [],
   "source": [
    "model_en.load_state_dict(new_params_en, strict=False)\n",
    "model_de.load_state_dict(new_params_de, strict=False)\n",
    "\n",
    "model_de.save_pretrained(\"./bert_de_zeroed\")\n",
    "model_en.save_pretrained(\"./bert_en_zeroed\")"
   ]
  },
  {
   "cell_type": "code",
   "execution_count": 80,
   "id": "a98fe707-3e27-44e5-a6e2-ac391fe32d51",
   "metadata": {},
   "outputs": [
    {
     "data": {
      "text/plain": [
       "BertConfig {\n",
       "  \"_name_or_path\": \"bert-base-uncased\",\n",
       "  \"adapters\": {\n",
       "    \"adapters\": {},\n",
       "    \"config_map\": {},\n",
       "    \"fusion_config_map\": {},\n",
       "    \"fusions\": {}\n",
       "  },\n",
       "  \"architectures\": [\n",
       "    \"BertModel\"\n",
       "  ],\n",
       "  \"attention_probs_dropout_prob\": 0.1,\n",
       "  \"classifier_dropout\": null,\n",
       "  \"gradient_checkpointing\": false,\n",
       "  \"hidden_act\": \"gelu\",\n",
       "  \"hidden_dropout_prob\": 0.1,\n",
       "  \"hidden_size\": 768,\n",
       "  \"initializer_range\": 0.02,\n",
       "  \"intermediate_size\": 3072,\n",
       "  \"layer_norm_eps\": 1e-12,\n",
       "  \"max_position_embeddings\": 512,\n",
       "  \"model_type\": \"bert\",\n",
       "  \"num_attention_heads\": 12,\n",
       "  \"num_hidden_layers\": 12,\n",
       "  \"pad_token_id\": 0,\n",
       "  \"position_embedding_type\": \"absolute\",\n",
       "  \"torch_dtype\": \"float32\",\n",
       "  \"transformers_version\": \"4.11.3\",\n",
       "  \"type_vocab_size\": 2,\n",
       "  \"use_cache\": true,\n",
       "  \"vocab_size\": 30522\n",
       "}"
      ]
     },
     "execution_count": 80,
     "metadata": {},
     "output_type": "execute_result"
    }
   ],
   "source": [
    "model_en.config"
   ]
  },
  {
   "cell_type": "code",
   "execution_count": 42,
   "id": "2e8f5316-dde5-428b-bac4-b7acc001fee2",
   "metadata": {},
   "outputs": [],
   "source": [
    "x = torch.load(\"./bert_de_zeroed/pytorch_model.bin\")"
   ]
  },
  {
   "cell_type": "code",
   "execution_count": 49,
   "id": "09b09653-3b6a-4391-9f8c-6df536e07d2d",
   "metadata": {},
   "outputs": [
    {
     "data": {
      "text/plain": [
       "tensor(1)"
      ]
     },
     "execution_count": 49,
     "metadata": {},
     "output_type": "execute_result"
    }
   ],
   "source": [
    "# for k, v in x.items():\n",
    "#     print(k)\n",
    "(x[\"encoder.layer.11.intermediate.dense.bias\"] == model_de.encoder.layer[11].intermediate.dense.bias).sum()"
   ]
  },
  {
   "cell_type": "code",
   "execution_count": 43,
   "id": "504a1ac3-b608-4a46-9f37-c051da0e5429",
   "metadata": {},
   "outputs": [
    {
     "data": {
      "text/plain": [
       "tensor([-0.0948, -0.0000, -0.0867,  ..., -0.0000, -0.0841, -0.0000])"
      ]
     },
     "execution_count": 43,
     "metadata": {},
     "output_type": "execute_result"
    }
   ],
   "source": [
    "x[\"encoder.layer.11.intermediate.dense.bias\"]"
   ]
  },
  {
   "cell_type": "code",
   "execution_count": 51,
   "id": "b2bc76b2-a62f-48b9-98b8-02718c2d1515",
   "metadata": {},
   "outputs": [
    {
     "data": {
      "text/plain": [
       "Parameter containing:\n",
       "tensor([-0.0948, -0.0831, -0.0867,  ..., -0.0764, -0.0841, -0.0663],\n",
       "       requires_grad=True)"
      ]
     },
     "execution_count": 51,
     "metadata": {},
     "output_type": "execute_result"
    }
   ],
   "source": [
    "model_de.encoder.layer[11].intermediate.dense.bias"
   ]
  },
  {
   "cell_type": "code",
   "execution_count": 52,
   "id": "a955be84-693e-41b4-ba4c-4da86c08b031",
   "metadata": {},
   "outputs": [
    {
     "data": {
      "text/plain": [
       "Parameter containing:\n",
       "tensor([-0.0065,  0.0069, -0.0739,  ..., -0.0475, -0.0874, -0.0548],\n",
       "       requires_grad=True)"
      ]
     },
     "execution_count": 52,
     "metadata": {},
     "output_type": "execute_result"
    }
   ],
   "source": [
    "model_de.load_state_dict(x)\n",
    "model_de.encoder.layer[11].intermediate.dense.bias"
   ]
  },
  {
   "cell_type": "code",
   "execution_count": null,
   "id": "ab400854-9f77-44c3-8f16-c5afccc0b264",
   "metadata": {},
   "outputs": [],
   "source": []
  }
 ],
 "metadata": {
  "kernelspec": {
   "display_name": "Python 3 (ipykernel)",
   "language": "python",
   "name": "python3"
  },
  "language_info": {
   "codemirror_mode": {
    "name": "ipython",
    "version": 3
   },
   "file_extension": ".py",
   "mimetype": "text/x-python",
   "name": "python",
   "nbconvert_exporter": "python",
   "pygments_lexer": "ipython3",
   "version": "3.8.12"
  }
 },
 "nbformat": 4,
 "nbformat_minor": 5
}
